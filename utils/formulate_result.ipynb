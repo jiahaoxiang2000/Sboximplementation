{
 "cells": [
  {
   "cell_type": "markdown",
   "metadata": {},
   "source": [
    "## Motivation\n",
    "\n",
    "Understanding the results of the STP is not straightforward and requires a grasp of the module equation. To simplify this, I will attempt to demonstrate the results using basic operations, eliminating the need to read the module equation.\n"
   ]
  },
  {
   "cell_type": "markdown",
   "metadata": {},
   "source": [
    "I will use the example to show.\n",
    "\n",
    "ASSERT( Q_13 = 0x3C );ASSERT( Q_4 = 0x33 );ASSERT( X_2 = 0x55 );ASSERT( T_5 = 0x77 );ASSERT( Q_0 = 0x0F );ASSERT( Q_1 = 0x33 );ASSERT( Q_2 = 0x55 );ASSERT( B_2 = 0x04 );ASSERT( Q_5 = 0x3C );ASSERT( Q_6 = 0x55 );ASSERT( Q_7 = 0x30 );ASSERT(Q_8 = 0x05);\n",
    "ASSERT( Q_12 = 0x77 );ASSERT( Q_3 = 0x0F );ASSERT( X_0 = 0x0F );ASSERT( T_2 = 0x30 );ASSERT( T_1 = 0x05 );ASSERT( B_0 = 0x02 );ASSERT( Y_0 = 0x4B );ASSERT( X_1 = 0x33 );\n",
    "ASSERT( B_5 = 0x06 );ASSERT( Q_10 = 0x55 );ASSERT( Y_1 = 0x39 );ASSERT( B_6 = 0x02 );\n",
    "ASSERT( B_4 = 0x02 );ASSERT( T_6 = 0x4B );ASSERT( B_3 = 0x02 );ASSERT( T_4 = 0x39 );ASSERT( B_1 = 0x04 );ASSERT( T_3 = 0x65 );ASSERT( T_0 = 0x3C );ASSERT( Q_9 = 0x3C );\n",
    "ASSERT( Q_11 = 0x33 );ASSERT( Y_2 = 0x65 );\n",
    "Invalid.\n",
    "081.35557174682617\n"
   ]
  },
  {
   "cell_type": "code",
   "execution_count": 4,
   "metadata": {},
   "outputs": [
    {
     "name": "stdout",
     "output_type": "stream",
     "text": [
      "{'Q_24': '0x7F7F', 'Q_5': '0x00FF', 'Q_4': '0x9999', 'Q_3': '0x6666', 'Q_1': '0x5555', 'Q_13': '0x6666', 'T_11': '0x7F7F', 'Q_14': '0x9999', 'Q_16': '0x3333', 'Q_17': '0x5533', 'Q_18': '0x7733', 'Q_19': '0xCCAA', 'T_17': '0x0114', 'Q_20': '0x6969', 'Q_22': '0x7F7B', 'Q_23': '0x0F0F', 'Q_26': '0x0F0F', 'Q_21': '0x7733', 'B_18': '0x0002', 'T_13': '0x7074', 'Q_28': '0x9999', 'Q_7': '0x5555', 'B_0': '0x0002', 'Q_9': '0x0F0F', 'Q_31': '0xCF50', 'Y_0': '0x3B19', 'Q_12': '0x0F0F', 'B_9': '0x0002', 'B_3': '0x0002', 'Q_6': '0x99FF', 'T_14': '0xFFFF', 'T_12': '0x3B19', 'T_10': '0x7F7B', 'X_0': '0x00FF', 'B_17': '0x0004', 'Y_3': '0x7174', 'T_1': '0x9999', 'B_2': '0x0006', 'T_0': '0x6666', 'B_15': '0x0002', 'B_1': '0x0003', 'Y_2': '0x5707', 'T_3': '0xCCAA', 'B_14': '0x0002', 'B_16': '0x0004', 'B_7': '0x0002', 'T_6': '0x6969', 'X_2': '0x3333', 'B_10': '0x0006', 'Q_15': '0xCCAA', 'Q_29': '0x6666', 'B_8': '0x0006', 'X_3': '0x5555', 'B_11': '0x0006', 'Q_2': '0x00FF', 'B_6': '0x0002', 'Q_38': '0x7074', 'T_19': '0x7174', 'Q_25': '0xBB99', 'T_16': '0x2034', 'Q_8': '0xCCAA', 'Q_10': '0x00FF', 'Q_11': '0xCFAF', 'Q_33': '0xA936', 'Q_27': '0x7F7B', 'Q_34': '0x5555', 'Q_35': '0xA936', 'Q_30': '0x6666', 'Q_37': '0x7733', 'Q_36': '0x2034', 'T_8': '0x7733', 'T_5': '0xCF50', 'T_2': '0x99FF', 'T_4': '0xCFAF', 'T_7': '0x5533', 'B_12': '0x0004', 'T_9': '0xBB99', 'Q_0': '0x3333', 'T_15': '0xA936', 'B_19': '0x0006', 'T_18': '0x5707', 'Y_1': '0xCF50', 'B_13': '0x0002', 'B_4': '0x0006', 'B_5': '0x0002', 'X_1': '0x0F0F', 'Q_39': '0x0114', 'Q_32': '0x7074'}\n"
     ]
    }
   ],
   "source": [
    "# extract target variables from a result file\n",
    "result_file_str = \"result.txt\"\n",
    "lines = None\n",
    "\n",
    "# Open the file\n",
    "with open(result_file_str, \"r\") as result_file:\n",
    "    lines = result_file.readlines()\n",
    "\n",
    "# Initialize an empty dictionary\n",
    "variables = {}\n",
    "\n",
    "for line in lines:\n",
    "    # Only process lines that start with 'ASSERT'\n",
    "    if line.startswith(\"ASSERT\"):\n",
    "        # Remove the 'ASSERT( ' and ' );' parts from the line\n",
    "        line = line.replace(\"ASSERT( \", \"\").replace(\" );\", \"\")\n",
    "\n",
    "        # Split the line at the '=' sign\n",
    "        var, value = line.split(\" = \")\n",
    "\n",
    "        # Remove the newline character from the value\n",
    "        value = value.strip()\n",
    "\n",
    "        # Add the variable and its value to the dictionary\n",
    "        variables[var] = value\n",
    "\n",
    "print(variables)"
   ]
  },
  {
   "cell_type": "code",
   "execution_count": 5,
   "metadata": {},
   "outputs": [
    {
     "name": "stdout",
     "output_type": "stream",
     "text": [
      "{'Q': ['0x3333', '0x5555', '0x00FF', '0x6666', '0x9999', '0x00FF', '0x99FF', '0x5555', '0xCCAA', '0x0F0F', '0x00FF', '0xCFAF', '0x0F0F', '0x6666', '0x9999', '0xCCAA', '0x3333', '0x5533', '0x7733', '0xCCAA', '0x6969', '0x7733', '0x7F7B', '0x0F0F', '0x7F7F', '0xBB99', '0x0F0F', '0x7F7B', '0x9999', '0x6666', '0x6666', '0xCF50', '0x7074', '0xA936', '0x5555', '0xA936', '0x2034', '0x7733', '0x7074', '0x0114'], 'T': ['0x6666', '0x9999', '0x99FF', '0xCCAA', '0xCFAF', '0xCF50', '0x6969', '0x5533', '0x7733', '0xBB99', '0x7F7B', '0x7F7F', '0x3B19', '0x7074', '0xFFFF', '0xA936', '0x2034', '0x0114', '0x5707', '0x7174'], 'B': ['0x0002', '0x0003', '0x0006', '0x0002', '0x0006', '0x0002', '0x0002', '0x0002', '0x0006', '0x0002', '0x0006', '0x0006', '0x0004', '0x0002', '0x0002', '0x0002', '0x0004', '0x0004', '0x0002', '0x0006'], 'Y': ['0x3B19', '0xCF50', '0x5707', '0x7174'], 'X': ['0x00FF', '0x0F0F', '0x3333', '0x5555']}\n"
     ]
    }
   ],
   "source": [
    "import re\n",
    "\n",
    "# Initialize empty dictionaries\n",
    "arrays = {}\n",
    "\n",
    "# Iterate over each item in the dictionary\n",
    "for key, value in variables.items():\n",
    "    # Get the first character of the key\n",
    "    first_char = key[0]\n",
    "\n",
    "    # Get the last number in the key using regex\n",
    "    match = re.search(r\"\\d+$\", key)\n",
    "    if match:\n",
    "        last_number = int(match.group())\n",
    "\n",
    "        # If this character doesn't have an array yet, create it\n",
    "        if first_char not in arrays:\n",
    "            arrays[first_char] = {}\n",
    "\n",
    "        # Add the value to the appropriate array at the position specified by the last number\n",
    "        arrays[first_char][last_number] = value\n",
    "\n",
    "# Sort each array by its keys (the last numbers in the original keys)\n",
    "for key in arrays:\n",
    "    arrays[key] = [item[1] for item in sorted(arrays[key].items())]\n",
    "\n",
    "print(arrays)"
   ]
  },
  {
   "cell_type": "code",
   "execution_count": 6,
   "metadata": {},
   "outputs": [
    {
     "name": "stdout",
     "output_type": "stream",
     "text": [
      "['Y0 = AND (OR (OR (XOR (X1, XOR (X2, X3) ) , OR (X2, XOR (NOT1 (X0, XOR (X2, X3) ) , XOR (OR (NOT1 (X0, XOR (X2, X3) ) , X0) , X3) ) ) ) , X1) , XOR (OR (X2, XOR (NOT1 (X0, XOR (X2, X3) ) , XOR (OR (NOT1 (X0, XOR (X2, X3) ) , X0) , X3) ) ) , XOR (OR (NOT1 (X0, XOR (X2, X3) ) , X0) , X3) ) ) ', 'Y1 = XOR (X0, OR (XOR (OR (NOT1 (X0, XOR (X2, X3) ) , X0) , X3) , X1) ) ', 'Y2 = XOR (AND (XOR (X1, OR (XOR (X1, XOR (X2, X3) ) , OR (X2, XOR (NOT1 (X0, XOR (X2, X3) ) , XOR (OR (NOT1 (X0, XOR (X2, X3) ) , X0) , X3) ) ) ) ) , XOR (XOR (X2, X3) , XOR (X0, OR (XOR (OR (NOT1 (X0, XOR (X2, X3) ) , X0) , X3) , X1) ) ) ) , OR (X2, XOR (NOT1 (X0, XOR (X2, X3) ) , XOR (OR (NOT1 (X0, XOR (X2, X3) ) , X0) , X3) ) ) ) ', 'Y3 = OR (XOR (X1, OR (XOR (X1, XOR (X2, X3) ) , OR (X2, XOR (NOT1 (X0, XOR (X2, X3) ) , XOR (OR (NOT1 (X0, XOR (X2, X3) ) , X0) , X3) ) ) ) ) , AND (X3, XOR (XOR (X2, X3) , XOR (X0, OR (XOR (OR (NOT1 (X0, XOR (X2, X3) ) , X0) , X3) , X1) ) ) ) ) ']\n"
     ]
    }
   ],
   "source": [
    "X = list(arrays[\"X\"])\n",
    "Y = list(arrays[\"Y\"])\n",
    "B = list(arrays[\"B\"])\n",
    "T = list(arrays[\"T\"])\n",
    "Q = list(arrays[\"Q\"])\n",
    "\n",
    "BT = {\n",
    "    \"0x0002\": \"XOR\",\n",
    "    \"0x0004\": \"AND\",\n",
    "    \"0x0006\": \"OR\",\n",
    "    \"0x0003\": \"NOT1\",\n",
    "    \"0x0001\": \"NOT0\",\n",
    "}\n",
    "\n",
    "XS = [f\"X{i}\" for i in range(0, len(X))]\n",
    "BS = [BT[b] for b in B]\n",
    "\n",
    "TS = []\n",
    "for i in range(0, len(T)):\n",
    "    q1 = Q[i * 2]\n",
    "    q2 = Q[i * 2 + 1]\n",
    "    q1_s = \"\"\n",
    "    q2_s = \"\"\n",
    "    if q1 in X:\n",
    "        q1_s = XS[X.index(q1)]\n",
    "    if q2 in X:\n",
    "        q2_s = XS[X.index(q2)]\n",
    "    if q1 in T:\n",
    "        q1_s = TS[T.index(q1)]\n",
    "    if q2 in T:\n",
    "        q2_s = TS[T.index(q2)]\n",
    "    TS.append(f\"{BS[i]} ({q1_s}, {q2_s}) \")\n",
    "\n",
    "YS = []\n",
    "for i in range(0, len(Y)):\n",
    "    y = Y[i]\n",
    "    if y in T:\n",
    "        YS.append(f\"Y{i} = {TS[T.index(y)]}\")\n",
    "\n",
    "print(YS)"
   ]
  },
  {
   "cell_type": "code",
   "execution_count": 7,
   "metadata": {},
   "outputs": [
    {
     "name": "stdout",
     "output_type": "stream",
     "text": [
      "Correct\n"
     ]
    }
   ],
   "source": [
    "y2 = 0x65 \n",
    "x0 = 0x0F\n",
    "x1 = 0x33\n",
    "x2 = 0x55\n",
    "if y2 == x2 ^ (x1 & (x0 ^ x1)):\n",
    "    print(\"Correct\")"
   ]
  }
 ],
 "metadata": {
  "kernelspec": {
   "display_name": "sbox",
   "language": "python",
   "name": "python3"
  },
  "language_info": {
   "codemirror_mode": {
    "name": "ipython",
    "version": 3
   },
   "file_extension": ".py",
   "mimetype": "text/x-python",
   "name": "python",
   "nbconvert_exporter": "python",
   "pygments_lexer": "ipython3",
   "version": "3.11.7"
  }
 },
 "nbformat": 4,
 "nbformat_minor": 2
}
