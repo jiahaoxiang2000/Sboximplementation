{
 "cells": [
  {
   "cell_type": "markdown",
   "metadata": {},
   "source": [
    "## Motivation\n",
    "\n",
    "Understanding the results of the STP is not straightforward and requires a grasp of the module equation. To simplify this, I will attempt to demonstrate the results using basic operations, eliminating the need to read the module equation.\n"
   ]
  },
  {
   "cell_type": "markdown",
   "metadata": {},
   "source": [
    "I will use the example to show.\n",
    "\n",
    "ASSERT( Q_13 = 0x3C );ASSERT( Q_4 = 0x33 );ASSERT( X_2 = 0x55 );ASSERT( T_5 = 0x77 );ASSERT( Q_0 = 0x0F );ASSERT( Q_1 = 0x33 );ASSERT( Q_2 = 0x55 );ASSERT( B_2 = 0x04 );ASSERT( Q_5 = 0x3C );ASSERT( Q_6 = 0x55 );ASSERT( Q_7 = 0x30 );ASSERT(Q_8 = 0x05);\n",
    "ASSERT( Q_12 = 0x77 );ASSERT( Q_3 = 0x0F );ASSERT( X_0 = 0x0F );ASSERT( T_2 = 0x30 );ASSERT( T_1 = 0x05 );ASSERT( B_0 = 0x02 );ASSERT( Y_0 = 0x4B );ASSERT( X_1 = 0x33 );\n",
    "ASSERT( B_5 = 0x06 );ASSERT( Q_10 = 0x55 );ASSERT( Y_1 = 0x39 );ASSERT( B_6 = 0x02 );\n",
    "ASSERT( B_4 = 0x02 );ASSERT( T_6 = 0x4B );ASSERT( B_3 = 0x02 );ASSERT( T_4 = 0x39 );ASSERT( B_1 = 0x04 );ASSERT( T_3 = 0x65 );ASSERT( T_0 = 0x3C );ASSERT( Q_9 = 0x3C );\n",
    "ASSERT( Q_11 = 0x33 );ASSERT( Y_2 = 0x65 );\n",
    "Invalid.\n",
    "081.35557174682617\n"
   ]
  },
  {
   "cell_type": "code",
   "execution_count": 14,
   "metadata": {},
   "outputs": [
    {
     "name": "stdout",
     "output_type": "stream",
     "text": [
      "{'Q_13': '0x3C', 'Q_4': '0x33', 'X_2': '0x55', 'T_5': '0x77', 'Q_0': '0x0F', 'Q_1': '0x33', 'Q_2': '0x55', 'B_2': '0x04', 'Q_5': '0x3C', 'Q_6': '0x55', 'Q_7': '0x30', 'Q_8': '0x05', 'Q_12': '0x77', 'Q_3': '0x0F', 'X_0': '0x0F', 'T_2': '0x30', 'T_1': '0x05', 'B_0': '0x02', 'Y_0': '0x4B', 'X_1': '0x33', 'B_5': '0x06', 'Q_10': '0x55', 'Y_1': '0x39', 'B_6': '0x02', 'B_4': '0x02', 'T_6': '0x4B', 'B_3': '0x02', 'T_4': '0x39', 'B_1': '0x04', 'T_3': '0x65', 'T_0': '0x3C', 'Q_9': '0x3C', 'Q_11': '0x33', 'Y_2': '0x65'}\n"
     ]
    }
   ],
   "source": [
    "# extract target variables from a result file\n",
    "result_file_str = \"result.txt\"\n",
    "lines = None\n",
    "\n",
    "# Open the file\n",
    "with open(result_file_str, \"r\") as result_file:\n",
    "    lines = result_file.readlines()\n",
    "\n",
    "# Initialize an empty dictionary\n",
    "variables = {}\n",
    "\n",
    "for line in lines:\n",
    "    # Only process lines that start with 'ASSERT'\n",
    "    if line.startswith(\"ASSERT\"):\n",
    "        # Remove the 'ASSERT( ' and ' );' parts from the line\n",
    "        line = line.replace(\"ASSERT( \", \"\").replace(\" );\", \"\")\n",
    "\n",
    "        # Split the line at the '=' sign\n",
    "        var, value = line.split(\" = \")\n",
    "\n",
    "        # Remove the newline character from the value\n",
    "        value = value.strip()\n",
    "\n",
    "        # Add the variable and its value to the dictionary\n",
    "        variables[var] = value\n",
    "\n",
    "print(variables)"
   ]
  },
  {
   "cell_type": "code",
   "execution_count": 15,
   "metadata": {},
   "outputs": [
    {
     "name": "stdout",
     "output_type": "stream",
     "text": [
      "{'Q': ['0x0F', '0x33', '0x55', '0x0F', '0x33', '0x3C', '0x55', '0x30', '0x05', '0x3C', '0x55', '0x33', '0x77', '0x3C'], 'X': ['0x0F', '0x33', '0x55'], 'T': ['0x3C', '0x05', '0x30', '0x65', '0x39', '0x77', '0x4B'], 'B': ['0x02', '0x04', '0x04', '0x02', '0x02', '0x06', '0x02'], 'Y': ['0x4B', '0x39', '0x65']}\n"
     ]
    }
   ],
   "source": [
    "import re\n",
    "\n",
    "# Initialize empty dictionaries\n",
    "arrays = {}\n",
    "\n",
    "# Iterate over each item in the dictionary\n",
    "for key, value in variables.items():\n",
    "    # Get the first character of the key\n",
    "    first_char = key[0]\n",
    "\n",
    "    # Get the last number in the key using regex\n",
    "    match = re.search(r\"\\d+$\", key)\n",
    "    if match:\n",
    "        last_number = int(match.group())\n",
    "\n",
    "        # If this character doesn't have an array yet, create it\n",
    "        if first_char not in arrays:\n",
    "            arrays[first_char] = {}\n",
    "\n",
    "        # Add the value to the appropriate array at the position specified by the last number\n",
    "        arrays[first_char][last_number] = value\n",
    "\n",
    "# Sort each array by its keys (the last numbers in the original keys)\n",
    "for key in arrays:\n",
    "    arrays[key] = [item[1] for item in sorted(arrays[key].items())]\n",
    "\n",
    "print(arrays)"
   ]
  },
  {
   "cell_type": "code",
   "execution_count": 25,
   "metadata": {},
   "outputs": [
    {
     "name": "stdout",
     "output_type": "stream",
     "text": [
      "['Y0 = XOR (OR (X2, X1) , XOR (X0, X1) ) ', 'Y1 = XOR (AND (X2, X0) , XOR (X0, X1) ) ', 'Y2 = XOR (X2, AND (X1, XOR (X0, X1) ) ) ']\n"
     ]
    }
   ],
   "source": [
    "X = list(arrays[\"X\"])\n",
    "Y = list(arrays[\"Y\"])\n",
    "B = list(arrays[\"B\"])\n",
    "T = list(arrays[\"T\"])\n",
    "Q = list(arrays[\"Q\"])\n",
    "\n",
    "BT = {\n",
    "    \"0x02\": \"XOR\",\n",
    "    \"0x04\": \"AND\",\n",
    "    \"0x06\": \"OR\",\n",
    "    \"0x03\": \"NOT1\",\n",
    "    \"0x01\": \"NOT0\",\n",
    "}\n",
    "\n",
    "XS = [f\"X{i}\" for i in range(0, len(X))]\n",
    "BS = [BT[b] for b in B]\n",
    "\n",
    "TS = []\n",
    "for i in range(0, len(T)):\n",
    "    q1 = Q[i * 2]\n",
    "    q2 = Q[i * 2 + 1]\n",
    "    q1_s = \"\"\n",
    "    q2_s = \"\"\n",
    "    if q1 in X:\n",
    "        q1_s = XS[X.index(q1)]\n",
    "    if q2 in X:\n",
    "        q2_s = XS[X.index(q2)]\n",
    "    if q1 in T:\n",
    "        q1_s = TS[T.index(q1)]\n",
    "    if q2 in T:\n",
    "        q2_s = TS[T.index(q2)]\n",
    "    TS.append(f\"{BS[i]} ({q1_s}, {q2_s}) \")\n",
    "\n",
    "YS = []\n",
    "for i in range(0, len(Y)):\n",
    "    y = Y[i]\n",
    "    if y in T:\n",
    "        YS.append(f\"Y{i} = {TS[T.index(y)]}\")\n",
    "\n",
    "print(YS)"
   ]
  },
  {
   "cell_type": "code",
   "execution_count": 27,
   "metadata": {},
   "outputs": [
    {
     "name": "stdout",
     "output_type": "stream",
     "text": [
      "Correct\n"
     ]
    }
   ],
   "source": [
    "y2 = 0x65 \n",
    "x0 = 0x0F\n",
    "x1 = 0x33\n",
    "x2 = 0x55\n",
    "if y2 == x2 ^ (x1 & (x0 ^ x1)):\n",
    "    print(\"Correct\")"
   ]
  }
 ],
 "metadata": {
  "kernelspec": {
   "display_name": "sbox",
   "language": "python",
   "name": "python3"
  },
  "language_info": {
   "codemirror_mode": {
    "name": "ipython",
    "version": 3
   },
   "file_extension": ".py",
   "mimetype": "text/x-python",
   "name": "python",
   "nbconvert_exporter": "python",
   "pygments_lexer": "ipython3",
   "version": "3.11.7"
  }
 },
 "nbformat": 4,
 "nbformat_minor": 2
}
