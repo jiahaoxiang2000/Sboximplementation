{
 "cells": [
  {
   "cell_type": "markdown",
   "source": [
    "xoodyak x\n",
    "\n",
    "1: Y1 = X2, Y0 = X1, Y2 = X0,\n",
    "\n",
    "2: Y1 = Y1 ∧ X0, Y0 = X2 ∧ Y0, Y2 = X1 ∨ Y2, X2 = X2 ⊕ X0, X1 = X1 ⊕ X0,\n",
    "\n",
    "3: Y0 = X2 ⊕ Y0, Y1 = Y1 ⊕ X1, Y2 = Y2 ⊕ X2.\n"
   ],
   "metadata": {
    "collapsed": false
   },
   "id": "e34ad98aadb24515"
  },
  {
   "cell_type": "code",
   "execution_count": 38,
   "outputs": [
    {
     "name": "stdout",
     "output_type": "stream",
     "text": [
      "xoodyak_sbox : [0, 5, 3, 2, 6, 1, 4, 7]\n"
     ]
    }
   ],
   "source": [
    "def xoodyak_sbox(X):\n",
    "    X2 = int(X[2])\n",
    "    X1 = int(X[1])\n",
    "    X0 = int(X[0])\n",
    "\n",
    "    Y2 = 0\n",
    "    Y1 = 0\n",
    "    Y0 = 0\n",
    "    # depth 0\n",
    "    Y1 = X2\n",
    "    Y0 = X1\n",
    "    Y2 = X0\n",
    "    # depth 1\n",
    "    Y1 = Y1 & X0\n",
    "    Y0 = X2 & Y0\n",
    "    Y2 = X1 | Y2\n",
    "    X2 = X2 ^ X0\n",
    "    X1 = X1 ^ X0\n",
    "    # depth 2\n",
    "    Y0 = X2 ^ Y0\n",
    "    Y1 = Y1 ^ X1\n",
    "    Y2 = Y2 ^ X2\n",
    "    # output\n",
    "    return f'{Y0}{Y1}{Y2}'\n",
    "\n",
    "\n",
    "Ys = []\n",
    "for i in range(8):\n",
    "    X = f'{i:03b}'\n",
    "    Ys.append(int(xoodyak_sbox(X), 2))\n",
    "\n",
    "print(f'xoodyak_sbox : {Ys}')\n"
   ],
   "metadata": {
    "collapsed": false,
    "ExecuteTime": {
     "end_time": "2023-10-19T12:41:10.585458114Z",
     "start_time": "2023-10-19T12:41:10.541289296Z"
    }
   },
   "id": "43d1c27578d31948"
  },
  {
   "cell_type": "markdown",
   "source": [
    "descript xoodyak x in th paper \n",
    " \n",
    "Note: not sure ture\n",
    "B0 ← ~A1 & A2\n",
    "B1 ← ~A2 & A0\n",
    "B2 ← ~A0 & A1"
   ],
   "metadata": {
    "collapsed": false
   },
   "id": "a3a8ea66130e7158"
  },
  {
   "cell_type": "code",
   "execution_count": 39,
   "outputs": [
    {
     "data": {
      "text/plain": "[0, 1, 4, 4, 2, 1, 2, 0]"
     },
     "execution_count": 39,
     "metadata": {},
     "output_type": "execute_result"
    }
   ],
   "source": [
    "def xoodyak_sbox_1(A):\n",
    "    A2 = int(A[2])\n",
    "    A1 = int(A[1])\n",
    "    A0 = int(A[0])\n",
    "\n",
    "    B2 = ~A1 & A2\n",
    "    B1 = ~A2 & A0\n",
    "    B0 = ~A0 & A1\n",
    "\n",
    "    # output\n",
    "    return f'{B0}{B1}{B2}'\n",
    "\n",
    "\n",
    "Ys = []\n",
    "for i in range(8):\n",
    "    X = f'{i:03b}'\n",
    "    Ys.append(int(xoodyak_sbox_1(X), 2))\n",
    "Ys"
   ],
   "metadata": {
    "collapsed": false,
    "ExecuteTime": {
     "end_time": "2023-10-19T12:50:35.581269087Z",
     "start_time": "2023-10-19T12:50:35.535009766Z"
    }
   },
   "id": "abb4715d6e435898"
  },
  {
   "cell_type": "code",
   "execution_count": 1,
   "outputs": [],
   "source": [
    "\n",
    "def sort_text(filename):\n",
    "    with open(filename, 'r+') as f:\n",
    "        lines = f.readlines()\n",
    "        lines = lines[:-2]\n",
    "        outLines = []\n",
    "        for line in lines:\n",
    "            outLine = line.split(' ')[1:-1]\n",
    "            outLine = ' '.join(outLine)\n",
    "            outLines.append(outLine + '\\n')\n",
    "        outLines.sort()\n",
    "        f.seek(0)\n",
    "        f.truncate()\n",
    "        f.writelines(outLines)\n",
    "\n",
    "\n",
    "sort_text(\"GEC/gec/Xoodyak/Xoodyak_d_2_23.txt\")\n",
    "\n"
   ],
   "metadata": {
    "collapsed": false,
    "ExecuteTime": {
     "end_time": "2023-10-21T05:44:21.177028409Z",
     "start_time": "2023-10-21T05:44:21.172862099Z"
    }
   },
   "id": "68da8e37fd68c37a"
  }
 ],
 "metadata": {
  "kernelspec": {
   "display_name": "Python 3",
   "language": "python",
   "name": "python3"
  },
  "language_info": {
   "codemirror_mode": {
    "name": "ipython",
    "version": 2
   },
   "file_extension": ".py",
   "mimetype": "text/x-python",
   "name": "python",
   "nbconvert_exporter": "python",
   "pygments_lexer": "ipython2",
   "version": "2.7.6"
  }
 },
 "nbformat": 4,
 "nbformat_minor": 5
}
